{
 "cells": [
  {
   "cell_type": "code",
   "execution_count": 1,
   "metadata": {},
   "outputs": [],
   "source": [
    "import pandas as pd\n",
    "import matplotlib\n",
    "import matplotlib.pyplot as plt\n",
    "import seaborn as sns\n",
    "import numpy as np\n",
    "\n",
    "matplotlib.style.use('ggplot') \n",
    "pd.set_option('display.width', 200)"
   ]
  },
  {
   "cell_type": "code",
   "execution_count": 2,
   "metadata": {},
   "outputs": [],
   "source": [
    "# Open StadtRad trips and preprocess\n",
    "# - Format dates to datetime\n",
    "with open('dataset/primaryData/stadtrad_trips.csv',  newline='\\n') as trips_file, open('dataset/primaryData/stations.csv',  newline='\\n') as stations_file:\n",
    "    stadtrad_trips = pd.read_csv(trips_file, delimiter=',')\n",
    "    start_stations = pd.read_csv(stations_file, delimiter=',')\n",
    "    end_stations = start_stations.copy()\n",
    "    stadtrad_trips = stadtrad_trips.merge(start_stations, left_on='start_station', right_on='number', suffixes=(None, '_start'))\n",
    "    stadtrad_trips = stadtrad_trips.merge(end_stations, left_on='end_station', right_on='number', suffixes=(None, '_end'))\n",
    "    stadtrad_trips['end_date'] = stadtrad_trips['end_date'].astype('datetime64[ns]')\n",
    "    stadtrad_trips['start_date'] = stadtrad_trips['start_date'].astype('datetime64[ns]')"
   ]
  },
  {
   "cell_type": "code",
   "execution_count": 3,
   "metadata": {},
   "outputs": [],
   "source": [
    "with open('dataset/primaryData/stadtrad_trips.csv',  newline='\\n') as trips_file:\n",
    "    bss_activity_trips_start = pd.read_csv(trips_file, delimiter=',')\n",
    "    bss_activity_trips_end = bss_activity_trips_start.copy()\n",
    "    df_bss_activity_trips_end = bss_activity_trips_end.drop(columns=['start_station', 'start_date'])\n",
    "    df_bss_activity_trips_end['activity'] = 1\n",
    "    df_bss_activity_trips_end.rename(columns={'end_date': 'timestamp', 'end_station': 'station'}, inplace=True)\n",
    "\n",
    "    df_bss_activity_trips_end['timestamp'] = df_bss_activity_trips_end['timestamp'].astype('datetime64[ns]')\n",
    "    all_bss_activity_trips = df_bss_activity_trips_end.groupby(['station', pd.Grouper(key='timestamp', freq=\"1h\")]).sum().reset_index()"
   ]
  },
  {
   "cell_type": "code",
   "execution_count": 4,
   "metadata": {},
   "outputs": [],
   "source": [
    "# Preprocess ZPID Covid-19 lockdown data\n",
    "\n",
    "with open('dataset/primaryData/covid-19_lockdown.csv') as lockdown_file:\n",
    "    lockdown = pd.read_csv(lockdown_file, delimiter=',')\n",
    "    lockdown = lockdown.drop(columns=['stateID'])\n",
    "    lockdown = lockdown.set_index(['state', 'Measure'])\n",
    "    lockdown = lockdown.stack().reset_index().rename(columns={'level_2': 'date', 0: 'value'})\n",
    "    lockdown['date'] = lockdown['date'].astype('datetime64[ns, utc]')\n",
    "    lockdown['value'] = lockdown['value'].replace(' ',0).astype('int64')\n",
    "    lockdown = lockdown.set_index('date')\n",
    "    lockdown = lockdown[(lockdown['value'] > 0) & (lockdown.state == 'Hamburg')]\n",
    "    lockdown = lockdown.drop(columns=['state'])\n",
    "    lockdown = lockdown.groupby('Measure').resample('1h').ffill().rename(columns={'Measure': 'drop'}).reset_index().drop(columns=['drop']).set_index('date')"
   ]
  },
  {
   "cell_type": "code",
   "execution_count": 5,
   "metadata": {},
   "outputs": [
    {
     "name": "stdout",
     "output_type": "stream",
     "text": [
      "2022-01-01 00:00:00 2022-10-31 00:00:00\n",
      "count    7270.000000\n",
      "mean      231.755296\n",
      "std       210.257322\n",
      "min         1.000000\n",
      "25%        54.000000\n",
      "50%       178.000000\n",
      "75%       349.000000\n",
      "max      1096.000000\n",
      "Name: activity, dtype: float64 1684861\n",
      "count    7272.000000\n",
      "mean      206.343784\n",
      "std       164.431141\n",
      "min         1.000000\n",
      "25%        66.000000\n",
      "50%       177.500000\n",
      "75%       304.000000\n",
      "max       873.000000\n",
      "Name: activity, dtype: float64 1500532\n"
     ]
    }
   ],
   "source": [
    "# Analyze Covid-19 lockdown data compared to normal BSS activity\n",
    "\n",
    "activity_trips_copy = all_bss_activity_trips.copy().set_index('timestamp')\n",
    "lockdown_copy = lockdown.copy().tz_localize(None)\n",
    "activity_trips_lockdown = activity_trips_copy.groupby('timestamp').sum().drop(columns=['station'])\n",
    "activity_trips_lockdown = activity_trips_lockdown.join(lockdown_copy, how='left')\n",
    "social_distancing = activity_trips_lockdown[activity_trips_lockdown['Measure'] == 'dist']\n",
    "social_distancing_start_comp = social_distancing.index.min() + pd.offsets.DateOffset(years=1)\n",
    "social_distancing_end_comp = social_distancing.index.max() + pd.offsets.DateOffset(years=1)\n",
    "comparison = activity_trips_lockdown[social_distancing_start_comp:social_distancing_end_comp]\n",
    "print(social_distancing_start_comp, social_distancing_end_comp)\n",
    "print(social_distancing['activity'].describe(), social_distancing['activity'].sum())\n",
    "print(comparison['activity'].describe(), comparison['activity'].sum())"
   ]
  },
  {
   "cell_type": "code",
   "execution_count": 6,
   "metadata": {},
   "outputs": [],
   "source": [
    "# Merge BSS activity with meteorological data\n",
    "\n",
    "weather_significant_factors = ['temp', 'pressure', 'wind_speed', 'humidity', 'rain_1h', 'snow_1h']\n",
    "\n",
    "with open('dataset/primaryData/weather.csv') as weather_file:\n",
    "        df_weather = pd.read_csv(weather_file)\n",
    "        station_activity = all_bss_activity_trips.copy().set_index('timestamp')\n",
    "\n",
    "        station_activity = station_activity.groupby('station')[['activity']].apply(lambda x: x.reindex(pd.date_range('2021-01-01', '2022-12-31', freq='1H')))\n",
    "\n",
    "        station_activity = station_activity.fillna(0)\n",
    "        station_activity = station_activity.reset_index().set_index('level_1')\n",
    "\n",
    "        df_weather['dt_iso'] = pd.to_datetime(df_weather['dt_iso'], format='%Y-%m-%d %H:%M:%S %z UTC', utc=True)\n",
    "        weather = df_weather.set_index(\"dt_iso\")\n",
    "        weather.index = weather.index.tz_localize(None)\n",
    "        station_demand_weather = station_activity.join(weather[weather_significant_factors])\n",
    "\n",
    "        # ensure datatypes\n",
    "        station_demand_weather['temp'] = (station_demand_weather['temp'].astype('float64') - 273.15).fillna(0)\n",
    "        station_demand_weather['pressure'] = station_demand_weather['pressure'].fillna(0)\n",
    "        station_demand_weather['weekday'] = station_demand_weather.index.dayofweek\n",
    "        station_demand_weather['hour'] = station_demand_weather.index.hour\n",
    "        station_demand_weather['rain_1h'] = station_demand_weather['rain_1h'].fillna(0)\n",
    "        station_demand_weather['snow_1h'] = station_demand_weather['snow_1h'].fillna(0)\n",
    "        station_demand_weather[\"is_weekend\"] = (station_demand_weather.index.dayofweek >= 5).astype(int)\n",
    "        station_demand_weather[\"station\"] = station_demand_weather[\"station\"].astype(int)"
   ]
  },
  {
   "cell_type": "code",
   "execution_count": 7,
   "metadata": {},
   "outputs": [
    {
     "name": "stderr",
     "output_type": "stream",
     "text": [
      "/var/folders/p4/f1wvg58s525fjnmcn8pzkpdc0000gn/T/ipykernel_62703/635266767.py:16: FutureWarning: The default value of numeric_only in DataFrame.corr is deprecated. In a future version, it will default to False. Select only valid columns or specify the value of numeric_only to silence this warning.\n",
      "  corr_matrix = station_demand_weather_copy.corr()\n"
     ]
    },
    {
     "data": {
      "image/png": "[encoded data removed]",
      "text/plain": [
       "<Figure size 640x480 with 2 Axes>"
      ]
     },
     "metadata": {},
     "output_type": "display_data"
    }
   ],
   "source": [
    "# Correlation between BSS activity and meteorological factors\n",
    "\n",
    "station_demand_weather_copy = station_demand_weather.copy()\n",
    "station_demand_weather_copy = station_demand_weather_copy.groupby(pd.Grouper(freq='1h')).agg(\n",
    "    {\n",
    "        'activity': 'mean',\n",
    "        'temp': 'mean',\n",
    "        'pressure': 'mean',\n",
    "        'wind_speed': 'mean',\n",
    "        'humidity': 'mean',\n",
    "        'rain_1h': 'mean',\n",
    "        'snow_1h': 'mean',\n",
    "    }\n",
    ").reset_index().rename(columns={'activity': 'BSS Activity', 'temp': 'Temperature', 'pressure': 'Pressure', 'wind_speed': 'Wind Speed', 'humidity': 'Humidity', 'rain_1h': 'Rain', 'snow_1h': 'Snow'})\n",
    "\n",
    "corr_matrix = station_demand_weather_copy.corr()\n",
    "mask = np.tril(np.ones_like(corr_matrix, dtype=bool))\n",
    "cmap = sns.diverging_palette(240, 12, 84, 55, 1, 10)\n",
    "# Draw the heatmap with the mask and correct aspect ratio\n",
    "ax = sns.heatmap(corr_matrix, mask=mask, cmap=cmap, center=0,\n",
    "            square=True, linewidths=0, annot=True, annot_kws={ 'color':'white', 'verticalalignment': 'center',})\n",
    "ax.set_title('Correlation between BSS activity and meteorological factors')\n",
    "ax.set_xlim(1, 7)\n",
    "ax.set_ylim(6, 0)\n",
    "  \n",
    "plt.show()"
   ]
  },
  {
   "cell_type": "code",
   "execution_count": 8,
   "metadata": {},
   "outputs": [
    {
     "data": {
      "image/png": "[encoded data removed]",
      "text/plain": [
       "<Figure size 1000x600 with 4 Axes>"
      ]
     },
     "metadata": {},
     "output_type": "display_data"
    }
   ],
   "source": [
    "# Sanity Check meteorological data due to unexpected absences of effects\n",
    "\n",
    "station_demand_weather[['rain_1h', 'snow_1h', 'wind_speed', 'pressure']].plot(\n",
    "    kind='box', \n",
    "    subplots=True, \n",
    "    sharey=False, \n",
    "    figsize=(10, 6)\n",
    ")\n",
    "\n",
    "# increase spacing between subplots\n",
    "plt.subplots_adjust(wspace=0.5) \n",
    "plt.show()"
   ]
  },
  {
   "cell_type": "code",
   "execution_count": 9,
   "metadata": {},
   "outputs": [],
   "source": [
    "# Preprocess public hours from scraped foursquare data\n",
    "\n",
    "import re\n",
    "weekdays = ['Monday', 'Tuesday', 'Wednesday', 'Thursday', 'Friday', 'Saturday', 'Sunday']\n",
    "\n",
    "with open('dataset/primaryData/public_hours.csv') as social_interest_file:\n",
    "    social_interest = pd.read_csv(social_interest_file)\n",
    "    df = []  \n",
    "    weekday_intervals = {}\n",
    "    for weekday in weekdays:\n",
    "        weekday_intervals[weekday] = pd.date_range(start='2021-1-1', end='2021-12-31', freq=f\"W-{weekday[:3].upper()}\", tz=\"UTC\")\n",
    "\n",
    "    pattern = r\"(.{2}):\"\n",
    "    for _, row in social_interest.iterrows():\n",
    "        public_hours_interval = pd.DatetimeIndex([], tz='UTC')\n",
    "        for weekday in weekdays:\n",
    "            if row[weekday] is np.nan:\n",
    "                continue\n",
    "            match = re.findall(pattern, row[weekday])\n",
    "            start_time = int(match[0])\n",
    "            end_time = int(match[1])\n",
    "\n",
    "            for date_day in weekday_intervals[weekday]:\n",
    "                public_hours_interval = public_hours_interval.union(\n",
    "                    pd.date_range(start=date_day.replace(hour=start_time), end=date_day.replace(hour=end_time), freq='H', tz='UTC')\n",
    "                )\n",
    "        df.append({\n",
    "            'station': row['Number_Station'],\n",
    "            'public_hours': public_hours_interval,\n",
    "            'public_hours_location': row['Name']\n",
    "        })\n",
    "\n",
    "    public_hours = pd.DataFrame(df)\n",
    "    public_hours = public_hours.explode('public_hours')"
   ]
  },
  {
   "cell_type": "code",
   "execution_count": 10,
   "metadata": {},
   "outputs": [],
   "source": [
    "# Merge BSS activity, meteorological and public hours data\n",
    "\n",
    "public_hours_copy = public_hours.copy()\n",
    "public_hours_copy['public_hours'] = public_hours_copy['public_hours'].dt.tz_convert(None)\n",
    "\n",
    "station_demand_weather_public_hours = station_demand_weather.copy()\n",
    "station_demand_weather_public_hours = station_demand_weather_public_hours.reset_index()\n",
    "\n",
    "# merge station_demand_weather_public_hours with public_hours on station and index and station and public_hours\n",
    "station_demand_weather_public_hours = pd.merge(\n",
    "    station_demand_weather_public_hours, public_hours_copy[['public_hours', 'station', 'public_hours_location']], \n",
    "    how='left', left_on=['station', 'index'], right_on=['station', 'public_hours']\n",
    ")\n",
    "station_demand_weather_public_hours['public_hours'] = pd.to_datetime(station_demand_weather_public_hours['public_hours'])\n",
    "station_demand_weather_public_hours['is_public_hours'] = station_demand_weather_public_hours['public_hours'].apply(lambda x: 0 if pd.isnull(x) else 1)\n",
    "station_demand_weather_public_hours = station_demand_weather_public_hours.drop(columns=['public_hours'])\n",
    "station_demand_weather_public_hours.index = station_demand_weather_public_hours['index'].astype('datetime64[ns]')\n",
    "station_demand_weather_public_hours['is_weekend'] = (station_demand_weather_public_hours.index.dayofweek >= 5).astype(str)\n",
    "station_demand_weather_public_hours['weekday'] = station_demand_weather_public_hours.index.dayofweek.astype(str)\n",
    "station_demand_weather_public_hours['time_of_day'] = station_demand_weather_public_hours.index.hour\n",
    "station_demand_weather_public_hours[\"month\"] = station_demand_weather_public_hours.index.month.astype(str)\n",
    "station_demand_weather_public_hours[\"log_activity\"] = np.log(station_demand_weather_public_hours['activity'] + 1e-8)\n",
    "station_demand_weather_public_hours[\"avg_activity_by_station\"] = station_demand_weather_public_hours.groupby('station')['activity'].transform('mean')\n",
    "station_demand_weather_public_hours = station_demand_weather_public_hours.groupby(['station',pd.Grouper(freq='4h', key='index')]).agg({\n",
    "    'is_public_hours': 'mean',\n",
    "    'activity': 'sum',\n",
    "    'temp': 'mean',\n",
    "    'humidity': 'mean',\n",
    "    'weekday': 'first',\n",
    "    'is_weekend': 'first',\n",
    "    'time_of_day': 'first',\n",
    "    'avg_activity_by_station': 'mean',\n",
    "    'month': 'first',\n",
    "    'log_activity': 'mean',\n",
    "    'activity': 'mean'\n",
    "}).reset_index()\n",
    "station_demand_weather_public_hours['time_idx'] = station_demand_weather_public_hours.groupby('station').cumcount()\n",
    "station_demand_weather_public_hours = station_demand_weather_public_hours.rename(columns={'index': 'timestamp'})"
   ]
  },
  {
   "cell_type": "code",
   "execution_count": 11,
   "metadata": {},
   "outputs": [
    {
     "name": "stderr",
     "output_type": "stream",
     "text": [
      "/var/folders/p4/f1wvg58s525fjnmcn8pzkpdc0000gn/T/ipykernel_62703/1358268038.py:18: FutureWarning: Indexing with multiple keys (implicitly converted to a tuple of keys) will be deprecated, use a list instead.\n",
      "  stations = stations.groupby([stations.date.dt.hour, 'name'])['demand', 'supply', 'diff'].mean().reset_index().rename(columns={'date': 'hour'}).rename(columns={'demand': 'Demand', 'supply': 'Supply', 'diff': 'Relative Difference'})\n"
     ]
    },
    {
     "data": {
      "image/png": "[encoded data removed]",
      "text/plain": [
       "<Figure size 640x480 with 1 Axes>"
      ]
     },
     "metadata": {},
     "output_type": "display_data"
    }
   ],
   "source": [
    "# Analyze BSS balance per hour at station with highest imbalance \n",
    "\n",
    "stadtrad_trips_copy = stadtrad_trips.copy()\n",
    "\n",
    "station_demand_per_day = stadtrad_trips_copy.groupby(['start_station', 'name', pd.Grouper(key='start_date', freq='1h')])['start_date'].count().rename('demand').reset_index()\n",
    "station_supply_per_day = stadtrad_trips_copy.groupby(['end_station', 'name_end', pd.Grouper(key='end_date', freq='1h')])['end_date'].count().rename('supply').reset_index()\n",
    "station_demand_per_day = station_demand_per_day.rename(columns={'start_station': 'station', 'start_date': 'date'})\n",
    "station_supply_per_day = station_supply_per_day.rename(columns={'end_station': 'station', 'name_end': 'name', 'end_date': 'date'})\n",
    "\n",
    "stations = pd.merge(station_demand_per_day, station_supply_per_day,  how='left', left_on=['station','date', 'name'], right_on = ['station','date', 'name'])\n",
    "stations = stations.fillna(0)\n",
    "stations['diff'] = abs(stations['demand'] - stations['supply'])\n",
    "\n",
    "# get stations with highest imbalance (Goldbekplatz / Semperstraße)\n",
    "max_stations = stations.groupby('station')['diff'].sum().nlargest(1).reset_index()\n",
    "stations = stations[stations.station.isin(max_stations.station)]\n",
    "\n",
    "stations = stations.groupby([stations.date.dt.hour, 'name'])['demand', 'supply', 'diff'].mean().reset_index().rename(columns={'date': 'hour'}).rename(columns={'demand': 'Demand', 'supply': 'Supply', 'diff': 'Relative Difference'})\n",
    "\n",
    "stations = stations.set_index('hour')\n",
    "\n",
    "ax = stations[['Demand', 'Supply']].plot.area(stacked=False)   \n",
    "ax = stations[['Relative Difference']].plot.line(\n",
    "    ax=ax, color='b', title='Demand and supply per hour at Goldbekplatz / Semperstraße', xlabel='Hour of day', ylabel='Amount of avg actions')"
   ]
  },
  {
   "cell_type": "code",
   "execution_count": 12,
   "metadata": {},
   "outputs": [
    {
     "name": "stderr",
     "output_type": "stream",
     "text": [
      "/var/folders/p4/f1wvg58s525fjnmcn8pzkpdc0000gn/T/ipykernel_62703/3173928979.py:6: FutureWarning: The default value of numeric_only in DataFrameGroupBy.sum is deprecated. In a future version, numeric_only will default to False. Either specify numeric_only or select only columns which should be valid for the function.\n",
      "  station_demand_weather_public_hours_copy = station_demand_weather_public_hours_copy.set_index('timestamp').groupby(pd.Grouper(freq='1d')).sum()\n"
     ]
    },
    {
     "data": {
      "image/png": "[encoded data removed]",
      "text/plain": [
       "<Figure size 640x480 with 4 Axes>"
      ]
     },
     "metadata": {},
     "output_type": "display_data"
    }
   ],
   "source": [
    "# Decompose seasonal and trend components of BSS activity\n",
    "\n",
    "from statsmodels.tsa.seasonal import STL\n",
    "\n",
    "station_demand_weather_public_hours_copy = station_demand_weather_public_hours.copy()\n",
    "station_demand_weather_public_hours_copy = station_demand_weather_public_hours_copy.set_index('timestamp').groupby(pd.Grouper(freq='1d')).sum()\n",
    "results = STL(station_demand_weather_public_hours_copy['activity'].rename('Seasonal and trend decomposition of BSS activity'), seasonal=5, trend=47).fit()\n",
    "fig = results.plot()"
   ]
  },
  {
   "cell_type": "code",
   "execution_count": 13,
   "metadata": {},
   "outputs": [
    {
     "data": {
      "text/plain": [
       "[<matplotlib.axis.XTick at 0x159ff00d0>,\n",
       " <matplotlib.axis.XTick at 0x159ff00a0>,\n",
       " <matplotlib.axis.XTick at 0x159ff1930>,\n",
       " <matplotlib.axis.XTick at 0x159f91b10>,\n",
       " <matplotlib.axis.XTick at 0x159f925c0>,\n",
       " <matplotlib.axis.XTick at 0x159f912d0>,\n",
       " <matplotlib.axis.XTick at 0x159f93490>,\n",
       " <matplotlib.axis.XTick at 0x15b104070>,\n",
       " <matplotlib.axis.XTick at 0x159f54310>,\n",
       " <matplotlib.axis.XTick at 0x159f54dc0>,\n",
       " <matplotlib.axis.XTick at 0x1610ddab0>,\n",
       " <matplotlib.axis.XTick at 0x159f555a0>,\n",
       " <matplotlib.axis.XTick at 0x159f56050>,\n",
       " <matplotlib.axis.XTick at 0x159f56b30>,\n",
       " <matplotlib.axis.XTick at 0x159f575e0>,\n",
       " <matplotlib.axis.XTick at 0x159f565c0>,\n",
       " <matplotlib.axis.XTick at 0x159f57ca0>,\n",
       " <matplotlib.axis.XTick at 0x159f18af0>,\n",
       " <matplotlib.axis.XTick at 0x159f195a0>,\n",
       " <matplotlib.axis.XTick at 0x159f1a050>,\n",
       " <matplotlib.axis.XTick at 0x159f191e0>,\n",
       " <matplotlib.axis.XTick at 0x159f1a950>,\n",
       " <matplotlib.axis.XTick at 0x159f1b400>,\n",
       " <matplotlib.axis.XTick at 0x159f1beb0>]"
      ]
     },
     "execution_count": 13,
     "metadata": {},
     "output_type": "execute_result"
    },
    {
     "data": {
      "image/png": "[encoded data removed]",
      "text/plain": [
       "<Figure size 640x480 with 1 Axes>"
      ]
     },
     "metadata": {},
     "output_type": "display_data"
    }
   ],
   "source": [
    "# Analyze BSS activity by hour of day\n",
    "\n",
    "trips = stadtrad_trips.copy()\n",
    "\n",
    "# group by hour of day also weekday and weekend\n",
    "trips['Day'] = np.where(trips['start_date'].dt.dayofweek < 5, 'Weekday', 'Weekend')\n",
    "start_hour = trips.groupby([trips.Day, trips.start_date.dt.hour]).size().reset_index()\n",
    "\n",
    "# percentage of trips\n",
    "start_hour[0] = start_hour[0] / start_hour[0].sum() * 100\n",
    "start_hour = start_hour.pivot(index='start_date', columns='Day', values=0)\n",
    "\n",
    "start_hour.plot(xlabel='Hour of day', ylabel='Percentage of trips', title='BSS activity by hour of day').set_xticks(start_hour.index)"
   ]
  },
  {
   "cell_type": "code",
   "execution_count": 14,
   "metadata": {},
   "outputs": [],
   "source": [
    "with open('dataset/primaryData/stations.csv') as stations_file:\n",
    "    stations = pd.read_csv(stations_file, delimiter=',')\n",
    "    stadtrad_trips_copy = stadtrad_trips.copy()\n",
    "    stadtrad_trips_station = pd.merge(left=stadtrad_trips_copy, right=stations, left_on=\"start_station\", right_on='number', suffixes=('_start', None))\n",
    "    stadtrad_trips_station = pd.merge(left=stadtrad_trips_station, right=stations, left_on=\"end_station\", right_on='number', suffixes=(None, '_end'))\n",
    "    stadtrad_trips_station = stadtrad_trips_station.loc[:,~stadtrad_trips_station.columns.duplicated()]\n",
    "\n",
    "    station_demand_per_day = stadtrad_trips_station.groupby(['start_station', 'latitude_start', 'longitude_start', 'name_start', pd.Grouper(key='start_date', freq='1h')])['start_date'].count().rename('demand').reset_index()\n",
    "    station_supply_per_day = stadtrad_trips_station.groupby(['end_station', 'latitude_end', 'longitude_end', 'name_end', pd.Grouper(key='end_date', freq='1h')])['end_date'].count().rename('supply').reset_index()\n",
    "    \n",
    "    station_demand_per_day = station_demand_per_day.rename(columns={'latitude_start': 'latitude', 'longitude_start': 'longitude', 'start_date': 'date', 'name_start': 'name'})\n",
    "    station_supply_per_day = station_supply_per_day.rename(columns={'latitude_end': 'latitude', 'longitude_end': 'longitude', 'name_end': 'name', 'end_date': 'date'})\n",
    "\n",
    "    stadtrad_trips_unidirectional = pd.merge(station_demand_per_day, station_supply_per_day,  how='outer', left_on=['date', 'name', 'latitude', 'longitude'], right_on = ['date', 'name', 'latitude', 'longitude'])\n",
    "    stadtrad_trips_unidirectional['date'] = stadtrad_trips_unidirectional['date'].astype('datetime64[ns]')    \n",
    "    stadtrad_trips_unidirectional = stadtrad_trips_unidirectional.fillna(0)\n",
    "\n",
    "    # group by name and calculate new column with difference between demand and supply\n",
    "    stadtrad_trips_unidirectional['diff'] = stadtrad_trips_unidirectional['supply'] - stadtrad_trips_unidirectional['demand']"
   ]
  },
  {
   "cell_type": "code",
   "execution_count": 15,
   "metadata": {},
   "outputs": [
    {
     "data": {
      "image/png": "[encoded data removed]",
      "text/plain": [
       "<Figure size 640x480 with 1 Axes>"
      ]
     },
     "metadata": {},
     "output_type": "display_data"
    }
   ],
   "source": [
    "stadtrad_trips_unidirectional_copy = stadtrad_trips_unidirectional.copy()\n",
    "station_demand_per_day = stadtrad_trips_unidirectional_copy.groupby(['name', pd.Grouper(freq='D', key='date')])['diff'].sum().reset_index()\n",
    "station_demand_mean = station_demand_per_day.groupby('name')['diff'].mean()\n",
    "too_high_demand = station_demand_mean.nsmallest(5)\n",
    "too_high_availability = station_demand_mean.nlargest(5)\n",
    "\n",
    "bad_stations = pd.concat([too_high_availability, too_high_demand])\n",
    "bad_stations = round(bad_stations, 2)\n",
    "\n",
    "ax = bad_stations.sort_values().plot.barh(legend=False, xlabel='Demand / Supply per day', ylabel='Station Name', title='Stations with highest imbalance between demand and supply')\n",
    "\n",
    "for container in ax.containers:\n",
    "    ax.bar_label(container, label_type='center', color='white')"
   ]
  },
  {
   "cell_type": "code",
   "execution_count": 16,
   "metadata": {},
   "outputs": [
    {
     "data": {
      "application/vnd.plotly.v1+json": {
       "config": {
        "plotlyServerURL": "https://plot.ly"
       },
       "data": [
        {
         "hoverinfo": "text",
         "lat": [
          53.541252,
          53.51642,
          53.60478,
          53.6095,
          53.63321,
          53.59666,
          53.56793,
          53.61209,
          53.56155,
          53.54184,
          53.53958,
          53.53654,
          53.547867,
          53.54373,
          53.55216,
          53.5518,
          53.55212,
          53.490498,
          53.56,
          53.5614,
          53.457287,
          53.60431,
          53.56597,
          53.556896,
          53.5708,
          53.575653,
          53.54732,
          53.540096,
          53.49638,
          53.50404,
          53.55129,
          53.5712,
          53.592022,
          53.60524,
          53.60744,
          53.6268,
          53.58272,
          53.52691,
          53.5512,
          53.54498,
          53.559895,
          53.5553,
          53.46062,
          53.547485,
          53.5677,
          53.60655,
          53.552124,
          53.5662,
          53.459,
          53.547424,
          53.57929,
          53.59285,
          53.5524,
          53.581753,
          53.58354,
          53.550816,
          53.60142,
          53.47882,
          53.55941,
          53.46503,
          53.5508,
          53.5462,
          53.59145,
          53.588173,
          53.58492,
          53.601,
          53.59146,
          53.5362,
          53.53956,
          53.494,
          53.60342,
          53.58191,
          53.48653,
          53.57758,
          53.5838,
          53.447624,
          53.589184,
          53.57541,
          53.50387,
          53.552338,
          53.550976,
          53.61015,
          53.556282,
          53.45452,
          53.63433,
          53.460686,
          53.5672,
          53.56394,
          53.55366,
          53.55407,
          53.54385,
          53.51738,
          53.58286,
          53.597,
          53.48288,
          53.460407,
          53.611877,
          53.577797,
          53.578033,
          53.55671,
          53.55865,
          53.55583,
          53.52191,
          53.65429,
          53.577248,
          53.5503,
          53.584,
          53.555,
          53.4665,
          53.48461,
          53.5516,
          53.51022,
          53.57784,
          53.5517,
          53.552612,
          53.590237,
          53.5552,
          53.5599,
          53.580757,
          53.575573,
          53.58039,
          53.567,
          53.53083,
          53.53511,
          53.50789,
          53.494675,
          53.57359,
          53.57347,
          53.58683,
          53.583794,
          53.5597,
          53.559216,
          53.453705,
          53.56153,
          53.588917,
          53.62052,
          53.58006,
          53.547974,
          53.576378,
          53.63721,
          53.52636,
          53.565952,
          53.5516,
          53.49723,
          53.55887,
          53.46165,
          53.544304,
          53.57861,
          53.57498,
          53.5458,
          53.54438,
          53.541584,
          53.57163,
          53.57318,
          53.547905,
          53.554432,
          53.5542,
          53.523815,
          53.59595,
          53.550148,
          53.44896,
          53.534286,
          53.62348,
          53.49007,
          53.59734,
          53.56026,
          53.60287,
          53.576237,
          53.546013,
          53.459957,
          53.564804,
          53.465275,
          53.563038,
          53.57581,
          53.558586,
          53.63244,
          53.5471,
          53.561108,
          53.57965,
          53.488483,
          53.47379,
          53.560394,
          53.5495,
          53.540104,
          53.54967,
          53.59025,
          53.5306,
          53.522793,
          53.64029,
          53.497932,
          53.587807,
          53.58696,
          53.5533,
          53.535202,
          53.552242,
          53.54525,
          53.62,
          53.62093,
          53.564228,
          53.57047,
          53.56977,
          53.464283,
          53.584583,
          53.548702,
          53.56271,
          53.57392,
          53.60007,
          53.55606,
          53.560837,
          53.48241,
          53.55976,
          53.54579,
          53.554214,
          53.54398,
          53.594,
          53.546932,
          53.591446,
          53.5864,
          53.582794,
          53.60618,
          53.58581,
          53.544277,
          53.555695,
          53.5695,
          53.579983,
          53.57169,
          53.5832,
          53.606247,
          53.557415,
          53.55609,
          53.593727,
          53.540783,
          53.593586,
          53.60347,
          53.572083,
          53.574516,
          53.556698,
          53.578053,
          53.55419,
          53.5943,
          53.62884,
          53.588516,
          53.58201,
          53.648758,
          53.66098,
          53.5992,
          53.54764,
          53.5572,
          53.5386,
          53.558517,
          53.547806,
          53.5696,
          53.52839,
          53.619072,
          53.640835,
          53.6789,
          53.61838,
          53.575985,
          53.55072,
          53.555504,
          53.567127,
          53.54872,
          53.588734,
          53.634758,
          53.56799,
          53.60916,
          53.551,
          53.54856,
          53.58182,
          53.59802,
          53.565,
          53.571663,
          53.572433,
          53.59206,
          53.5636,
          53.54022,
          53.57108,
          53.563755,
          53.56697,
          53.57055,
          53.49975,
          53.543907,
          53.514263,
          53.4659,
          53.539993,
          53.48845,
          53.58746,
          53.57859,
          53.62059,
          53.580006,
          53.58081,
          53.487427,
          53.60026,
          53.57531,
          53.60498,
          53.55033,
          53.60162,
          53.60373
         ],
         "lon": [
          9.96501,
          10.0964,
          10.03263,
          9.90051,
          9.90643,
          9.90608,
          9.9823,
          10.023946,
          10.02222,
          9.992856,
          9.99365,
          10.022189,
          10.012361,
          9.98971,
          9.98614,
          9.93387,
          9.936005,
          10.206105,
          9.98993,
          9.99043,
          9.987994,
          10.15455,
          9.91087,
          9.927945,
          10.13607,
          10.02957,
          9.965669,
          10.106106,
          10.18305,
          10.21091,
          9.912913,
          9.977694,
          10.015021,
          9.98267,
          9.97863,
          10.08527,
          10.04659,
          10.07924,
          9.94576,
          10.03685,
          10.061703,
          9.94286,
          9.969487,
          9.994057,
          10.0162,
          9.9039,
          10.030364,
          9.9534,
          9.951,
          9.862013,
          10.06423,
          9.952055,
          9.97695,
          9.971242,
          10.07177,
          9.925653,
          10.06265,
          10.16926,
          9.93758,
          9.81492,
          9.922219,
          9.95088,
          10.106858,
          10.095665,
          10.079638,
          10.041,
          10.044508,
          9.87775,
          9.86297,
          9.99,
          9.97278,
          10.01479,
          10.23466,
          9.963063,
          10.01,
          9.980675,
          9.964681,
          9.977824,
          9.985615,
          9.930344,
          9.980459,
          10.058096,
          9.990091,
          9.96541,
          10.00606,
          9.977572,
          10.0011,
          10.04595,
          10.00463,
          10.007833,
          10.03131,
          10.16863,
          9.99376,
          10.062488,
          10.17656,
          9.983319,
          10.075913,
          9.953073,
          10.013995,
          9.918508,
          9.94873,
          9.950708,
          10.03293,
          9.98528,
          9.98211,
          10.0015,
          10.0211,
          9.9914,
          9.984148,
          10.01886,
          9.99843,
          10.20746,
          10.11795,
          10.016,
          10.00415,
          9.98673,
          10.0082,
          10.0149,
          9.938418,
          9.944487,
          9.999404,
          10.0318,
          10.1062,
          10.08186,
          10.18008,
          10.206894,
          10.049568,
          9.89281,
          10.05694,
          9.977916,
          10.0285,
          10.107447,
          9.982275,
          9.9393,
          9.975715,
          9.94504,
          9.946786,
          9.97942,
          9.993122,
          9.92189,
          10.09269,
          10.019142,
          10.0054,
          10.003843,
          9.963824,
          10.004132,
          9.914731,
          9.882799,
          9.87898,
          10.00302,
          10.00686,
          9.999731,
          9.862423,
          9.962395,
          9.934844,
          9.900752,
          9.96246,
          10.036626,
          10.01365,
          9.993748,
          9.990306,
          10.038938,
          10.012209,
          10.15839,
          10.03608,
          9.908946,
          9.89346,
          10.058237,
          10.024042,
          9.9804735,
          10.054679,
          9.963537,
          9.948345,
          9.81522,
          9.86216,
          10.05487,
          9.94241,
          10.037022,
          9.93238,
          10.182199,
          9.85369,
          9.887159,
          9.954934,
          10.04287,
          9.986594,
          9.919356,
          10.06528,
          10.01481,
          10.08392,
          10.007016,
          10.046198,
          10.042993,
          10.0246,
          10.024356,
          9.995501,
          9.973685,
          10.032,
          10.03074,
          9.96925,
          10.059528,
          9.94977,
          9.986136,
          10.03369,
          9.997126,
          9.96099,
          10.00808,
          9.963929,
          9.979697,
          10.052589,
          10.22167,
          9.981839,
          10.007643,
          10.013306,
          10.00367,
          9.973,
          10.057613,
          10.030327,
          10.12494,
          9.957594,
          10.012225,
          10.06523,
          9.980896,
          10.041298,
          9.96309,
          10.041461,
          9.953138,
          9.98441,
          10.12021,
          9.969178,
          9.98434,
          10.05064,
          10.006168,
          9.943525,
          9.94496,
          9.988801,
          10.036608,
          10.055075,
          9.976014,
          10.085077,
          9.99575,
          9.95002,
          9.991125,
          9.987613,
          10.016366,
          10.01695,
          9.994017,
          10.095515,
          10.0199,
          10.12237,
          9.975346,
          9.998774,
          10.0271,
          10.15012,
          9.951311,
          9.950095,
          10.00073,
          10.12624,
          9.952071,
          9.99714,
          10.066926,
          10.044484,
          9.98728,
          10.03268,
          9.95262,
          9.969601,
          10.022685,
          9.97033,
          10.004368,
          10.06811,
          10.101459,
          10.0267,
          10.068644,
          10.068955,
          10.07566,
          10.0341,
          9.99653,
          10.039741,
          9.987659,
          9.986076,
          10.10493,
          9.99647,
          9.94246,
          9.987298,
          9.98923,
          10.013488,
          10.210913,
          9.90389,
          10.04607,
          9.99709,
          10.033846,
          10.025847,
          10.22,
          10.070397,
          10.02045,
          10.03007,
          10.008849,
          10.024745,
          10.0197
         ],
         "marker": {
          "allowoverlap": true,
          "cmid": 0,
          "color": [
           -23,
           79,
           33,
           95,
           118,
           -60,
           377,
           -57,
           -56,
           1362,
           -488,
           -42,
           1156,
           2051,
           1462,
           -4979,
           -1667,
           316,
           -1000,
           -2398,
           364,
           173,
           22,
           32,
           211,
           123,
           -101,
           308,
           -8,
           -47,
           -454,
           191,
           10,
           114,
           194,
           5,
           -2,
           5,
           -1327,
           -125,
           90,
           -553,
           -325,
           144,
           26,
           56,
           315,
           17,
           -681,
           820,
           12,
           173,
           -2131,
           341,
           -38,
           -168,
           12,
           70,
           -603,
           54,
           -393,
           483,
           -32,
           155,
           277,
           488,
           36,
           29,
           30,
           -66,
           111,
           98,
           -17,
           656,
           2285,
           1,
           -87,
           -16,
           335,
           -37,
           -1131,
           218,
           1598,
           -4,
           -121,
           100,
           26,
           47,
           -3858,
           -8183,
           163,
           17,
           -39,
           195,
           74,
           266,
           242,
           -9,
           1307,
           -548,
           -93,
           -711,
           127,
           -431,
           -77,
           -1368,
           588,
           2719,
           179,
           387,
           -169,
           -140,
           -30,
           -421,
           -1374,
           388,
           -163,
           786,
           -456,
           332,
           220,
           -153,
           112,
           332,
           -90,
           -5,
           793,
           -719,
           128,
           188,
           -254,
           490,
           -200,
           -230,
           234,
           -3,
           249,
           -599,
           -750,
           -46,
           31,
           144,
           201,
           -144,
           376,
           63,
           1474,
           -413,
           -468,
           298,
           -41,
           888,
           -74,
           683,
           -664,
           -398,
           10,
           191,
           94,
           567,
           -38,
           2214,
           158,
           353,
           -4,
           -672,
           33,
           993,
           80,
           370,
           -37,
           -439,
           102,
           251,
           -601,
           -3,
           -456,
           69,
           -185,
           142,
           5,
           -131,
           1186,
           -29,
           90,
           -360,
           -15,
           1318,
           140,
           -90,
           -2472,
           -620,
           -2635,
           -647,
           2118,
           4048,
           118,
           -7,
           -747,
           41,
           -116,
           -31,
           149,
           719,
           845,
           -29,
           242,
           -2223,
           -56,
           -11,
           -218,
           301,
           6,
           -194,
           295,
           2018,
           -407,
           122,
           -526,
           59,
           93,
           2694,
           1560,
           192,
           -420,
           -135,
           485,
           222,
           -267,
           -245,
           140,
           -168,
           -1054,
           87,
           -573,
           -61,
           -135,
           347,
           616,
           1266,
           40,
           -122,
           -42,
           451,
           11,
           598,
           196,
           -997,
           175,
           -437,
           -446,
           166,
           155,
           295,
           17,
           7,
           76,
           71,
           617,
           741,
           244,
           242,
           -1770,
           -2,
           -840,
           -368,
           -740,
           -312,
           283,
           55,
           -23,
           49,
           -106,
           30,
           258,
           -385,
           64,
           -730,
           210,
           41,
           -179,
           873,
           2754,
           48,
           37,
           75,
           -234,
           -110,
           -570,
           -175,
           179,
           -46,
           2,
           326,
           117,
           -422,
           11,
           -570
          ],
          "colorscale": [
           [
            0,
            "rgb(60, 9, 17)"
           ],
           [
            0.09090909090909091,
            "rgb(120, 14, 40)"
           ],
           [
            0.18181818181818182,
            "rgb(172, 43, 36)"
           ],
           [
            0.2727272727272727,
            "rgb(196, 101, 72)"
           ],
           [
            0.36363636363636365,
            "rgb(213, 157, 137)"
           ],
           [
            0.45454545454545453,
            "rgb(230, 210, 204)"
           ],
           [
            0.5454545454545454,
            "rgb(210, 216, 219)"
           ],
           [
            0.6363636363636364,
            "rgb(142, 181, 194)"
           ],
           [
            0.7272727272727273,
            "rgb(69, 144, 185)"
           ],
           [
            0.8181818181818182,
            "rgb(11, 102, 189)"
           ],
           [
            0.9090909090909091,
            "rgb(41, 58, 143)"
           ],
           [
            1,
            "rgb(23, 28, 66)"
           ]
          ],
          "showscale": true,
          "size": [
           0.063,
           2.225,
           0.033,
           4.103,
           2.35,
           4.248,
           88.387,
           7.347,
           24.736,
           39.212,
           11.948,
           3.896,
           46.658,
           30.101,
           46.88,
           46.581,
           65.297,
           10.238,
           27.692,
           75.408,
           22.574,
           2.811,
           26.198,
           44.764,
           4.243,
           40.035000000000004,
           51.875,
           9.06,
           0.54,
           2.6350000000000002,
           14.504,
           49.665,
           37.26,
           10.33,
           9.932,
           3.9050000000000002,
           27.242,
           1.815,
           37.233000000000004,
           9.875,
           23.44,
           27.903000000000002,
           14.821,
           22.156,
           50.362,
           5.542,
           20.963,
           32.187,
           3.6830000000000003,
           17.432,
           8.476,
           14.873000000000001,
           16.999,
           55.449,
           1.55,
           13.254,
           7.636,
           1.018,
           26.181,
           1.174,
           13.681000000000001,
           32.811,
           10.062,
           13.315,
           20.273,
           41.152,
           37.504,
           3.089,
           0.902,
           14.16,
           6.393,
           9.108,
           2.457,
           68.44,
           105.137,
           7.9030000000000005,
           20.983,
           19.912,
           11.425,
           32.741,
           33.453,
           9.432,
           45.13,
           6.58,
           4.9430000000000005,
           12.914,
           68.412,
           8.947000000000001,
           75.806,
           79.643,
           14.101,
           1.977,
           0.47700000000000004,
           7.989,
           1.172,
           6.974,
           9.324,
           38.111000000000004,
           74.965,
           23.464000000000002,
           8.389,
           32.723,
           7.973,
           3.315,
           19.075,
           19.852,
           72.37,
           66.899,
           7.543,
           5.9590000000000005,
           19.871,
           1.034,
           1.48,
           23.643,
           8.998,
           51.764,
           47.389,
           89.918,
           30.598,
           61.364000000000004,
           69.098,
           28.201,
           2.088,
           3.778,
           1.052,
           3.601,
           48.533,
           10.349,
           15.608,
           39.28,
           20.104,
           13.886000000000001,
           3.59,
           9.718,
           58.82,
           3.361,
           56.187000000000005,
           26.919,
           12.388,
           0.368,
           2.681,
           59.356,
           60.315,
           21.942,
           65.008,
           5.689,
           33.008,
           6.527,
           5.5040000000000004,
           19.598,
           8.697000000000001,
           27.716,
           8.414,
           71.815,
           24.904,
           7.918,
           64.842,
           6.399,
           23.922,
           22.151,
           3.74,
           28.342000000000002,
           16.534,
           8.161,
           0.304,
           17.602,
           4.277,
           45.841,
           45.158,
           9.814,
           31.271,
           6.369,
           52.156,
           1.599,
           7.131,
           0.029,
           14.112,
           38.085,
           10.119,
           4.872,
           1.285,
           10.647,
           51.576,
           18.165,
           27.148,
           12.728,
           0.723,
           33.902,
           1.978,
           10.974,
           33.272,
           32.08,
           59.993,
           9.033,
           86.382,
           64.706,
           16.568,
           4.503,
           81.613,
           31.509,
           25.502,
           5.493,
           36.471000000000004,
           25.555,
           79.671,
           15.021,
           20.334,
           26.737000000000002,
           18.504,
           0.189,
           23.752,
           16.445,
           36.994,
           12.972,
           46.487,
           27.736,
           27.249000000000002,
           5.378,
           28.78,
           12.895,
           15.617,
           60.746,
           68.60000000000001,
           70.938,
           21.896,
           26.151,
           46.065,
           7.896,
           61.587,
           33.399,
           25.96,
           32.19,
           17.638,
           6.057,
           46.355000000000004,
           44.141,
           32.325,
           83.447,
           28.400000000000002,
           55.864000000000004,
           0.04,
           25.834,
           27.552,
           6.487,
           0.8310000000000001,
           42.294000000000004,
           9.868,
           39.231,
           6.573,
           44.845,
           13.06,
           70.392,
           4.041,
           10.311,
           3.4370000000000003,
           0.193,
           2.366,
           55.987,
           40.517,
           29.447,
           35.346000000000004,
           11.88,
           41.272,
           0.932,
           37.724000000000004,
           7.554,
           60.918,
           14.450000000000001,
           24.167,
           9.151,
           23.607,
           15.469000000000001,
           27.924,
           10.772,
           38.708,
           5.941,
           30.518,
           31.762,
           30.650000000000002,
           7.569,
           9.495000000000001,
           23.097,
           35.39,
           2.088,
           9.735,
           3.777,
           5.838,
           18.836000000000002,
           6.864,
           24.209,
           53.909,
           1.96,
           5.348,
           50.628,
           6.559,
           21.900000000000002,
           15.527000000000001,
           13.818
          ]
         },
         "mode": "markers",
         "name": "StadtRad-Stationen",
         "showlegend": false,
         "text": [
          "(offline) Am Elbtunnel / ITS Weltkongress",
          "(offline) S Billwerder-Moorfleet / Alter Landweg",
          "(offline) S Rübenkamp / Weg bei den Gärten",
          "AKN Eidelstedt Zentrum / Johann-Schmidt-Straße",
          "AKN Schnelsen / Pinneberger Straße",
          "AKN+S Eidelstedt / Reichsbahnstrtaße",
          "Allende-Platz / Grindelhof",
          "Alsterdorfer Markt / Evangelische Stiftung",
          "Alsterschwimmhalle / Ifflandstraße",
          "Am Kaiserkai / Großer Grasbrook",
          "Am Strandkai / Großer Grasbrook",
          "Amerigo-Vespucci-Platz / Baakenwerder Straße",
          "Amsinckstraße / Nordkanalbrücke",
          "Auf dem Sande / Kehrwieder / Miniatur Wunderland",
          "Axel-Springer-Platz/Wexstraße",
          "Bahnhof Altona / Busbahnhof",
          "Bahnhof Altona Ost/Max-Brauer-Allee",
          "Bahnhof Bergedorf / Johann-Meyer-Straße",
          "Bahnhof Dammtor / Dag-Hammarskjöld-Platz",
          "Bahnhof Dammtor / Theodor-Heuss-Platz",
          "Bahnhof Harburg / Moorstraße",
          "Bahnhof Rahlstedt / Helmut-Steidl-Platz",
          "Bahrenfelder Chaussee / Von-Sauer-Straße",
          "Bahrenfelder Straße / Völckersstraße",
          "Barsbütteler Straße / Öjendorfer Damm",
          "Bartholomäusstraße / Beim Alten Schützenhof",
          "Bernhard-Nocht-Straße / Zirkusweg",
          "Billstedter Platz / Öjendorfer Weg",
          "Billwerder Billdeich / TSG Sportforum",
          "Binnenfeldredder / Habermannstraße",
          "Bleickenallee / Kinderkrankenhaus Altona",
          "Bogenstraße / Grindelallee",
          "Borgweg / Stadtpark",
          "Borsteler Chaussee / Alphapark",
          "Borsteler Chaussee / Köppenstraße",
          "Bramfelder Chaussee / Maisredder",
          "Bramfelder Straße / Pfenningsbusch",
          "Bredowstraße / Pinkertweg",
          "Bruno-Tesch-Platz / Jessenstraße",
          "Bullerdeich / Stadtreinigung Hamburg",
          "Caspar-Voght-Straße / Sievekingsallee",
          "Chemnitzstraße / Max-Brauer-Allee",
          "Denickestraße / TUHH",
          "Domstraße / Willy-Brandt-Straße",
          "Eduard-Rhein-Ufer / Schwanenwik",
          "Eidelstedt-Center / Elbgaustraße",
          "Eiffestraße / Normannenweg",
          "Eimsbütteler Straße / Waterloostraße",
          "Eißendorfer Pferdeweg / Asklepios-Klinik Harburg",
          "Elbchaussee/Teufelsbrück",
          "Elsässer Straße / Stormarner Straße",
          "Emil-Andresen-Straße / Lohkoppelweg",
          "Enckeplatz / Hütten",
          "Eppendorfer Weg / Hoheluftchaussee",
          "Eulenkamp / Straßburger Stieg",
          "Eulenstraße / Große Brunnenstraße",
          "Fabriciusstraße / Buschrosenweg",
          "Fanny-Lewald-Ring",
          "Felicitas-Kukuck-Straße / Lille Torv",
          "Fischbeker Heidbrook / Quartiersmitte",
          "Fischersallee / Bleickenallee",
          "Fischmarkt / Breite Straße",
          "Friedrich-Ebert-Damm / Charlie-Mills-Straße",
          "Friedrich-Ebert-Damm / Helbingtwiete",
          "Friedrich-Ebert-Damm / Lomerstraße",
          "Fuhlsbüttler Straße / Hartzloh",
          "Fuhlsbüttler Straße / Hellbrookstraße",
          "Fähranleger Finkenwerder/ Butendeichsweg",
          "Fähre Rüschpark / Hein-Saß-Weg",
          "Georg-Wilhelm-Straße / Mankiewicz",
          "Gert-Marcus-Straße / Anni-Glissmann-Weg",
          "Gertigstraße / Forsmannstraße",
          "Glindersweg / Bethesda-Krankenhaus",
          "Goebenstraße / Eppendorfer Weg",
          "Goldbekplatz / Semperstraße",
          "Gotthelfweg / Außenmühlenteich",
          "Grandweg / Veilchenweg",
          "Grindelberg / Bezirksamt Eimsbüttel",
          "Groß-Sand / Wilhelmsburger Krankenhaus",
          "Große Rainstraße/Ottenser Hauptstraße",
          "Großneumarkt / Thielbek",
          "Gründgensstraße / César-Klein-Ring",
          "Gustav-Mahler-Platz / Büschstraße",
          "Göhlbachtal / Berufliche Schule Harburg",
          "Hamburg Airport / Terminal 1",
          "Harburger Ring / Neue Straße",
          "Harvestehuder Weg / Alte Rabenstraße",
          "Hasselbrookstraße / Ritterstraße",
          "Hauptbahnhof / Glockengießerwall",
          "Hauptbahnhof / Heidi-Kabel-Platz",
          "Heidenkampsweg / R+V Versicherung",
          "Heidhorst / Bockhorster Weg",
          "Heilwigstraße / St. Benedictstraße",
          "Hellbrookkamp / Novomind AG",
          "Henriette-Herz-Ring / Grachtenplatz",
          "Herbert-Wehner-Platz / Großer Schippsee",
          "Herthastraße / Bramfelder Chaussee",
          "Heußweg / Wiesenstraße",
          "Hofweg / Am Langenzug",
          "Hohenzollernring / Friedensallee",
          "Holstenstraße / Max-Brauer-Allee",
          "Holstenstraße / Thadenstraße",
          "Hovestraße / Aurubis",
          "Hugo-Kirchberg-Straße / Tesa",
          "Innocentiapark / Oberstraße",
          "Jakobikirchhhof / Steinstraße",
          "Jarrestraße / Rambatzweg",
          "Jungfernstieg / Neuer Jungfernstieg",
          "Kanalplatz / Harburger Schlossstraße",
          "Karl-Arnold-Ring / Dahlgrünring",
          "Kleine Rosenstraße / Gerhart-Hauptmann-Platz",
          "Korachstraße / Helmuth-Hübener-Weg",
          "Kuehnstraße / Albert-Schweitzer-Ring",
          "Kurt-Schumacher-Allee / Nagelsweg",
          "Kurze Mühren / Spitalerstraße",
          "Kümmellstraße / Robert-Koch-Straße",
          "Lange Reihe / Kirchenallee",
          "Lange Reihe / Lohmühlenpark",
          "Langenfelder Damm / Müggenkampstraße",
          "Lappenbergsallee / Bei der Apostelkirche",
          "Leinpfad/Fernsicht",
          "Lerchenfeld / Uferstraße",
          "Liebigstraße / Berzeliusstraße",
          "Liebigstraße / Wöhlerstraße",
          "Lohbrügger Landstraße / BG Klinikum",
          "Lohbrügger Markt / Ludwig-Rosenberg-Ring",
          "Lortzingstraße / Friedrichsberger Straße",
          "Luruper Chauseee / Ebertallee",
          "Lämmersieth / Wachtelstraße",
          "Löwenstraße / Eppendorfer Weg",
          "Lübecker Straße / Marienkrankenhaus",
          "Manshardtstraße / Einkaufszentrum Manshardtstraße",
          "Maretstraße / Baererstraße",
          "Mariannenruhplatz / Eva-Rühmkorf-Straße",
          "Martinistraße / Haupteingang Klinikum",
          "Max-Zelck-Straße / Haus der Kirche",
          "Methfesselstraße / Luruper Weg",
          "Michaeliskirche / Krayenkamp",
          "Mittelweg / Sophienterrasse",
          "Modering / Oldesloer Straße",
          "Moorfleeter Straße / Pinkertweg",
          "Mundsburger Brücke / Papenhuder Straße",
          "Mönckebergstraße / Steintorwall",
          "Neuenfelder Straße / Kurt-Emmerich-Platz",
          "Neuer Pferdemarkt / Beim Grünen Jäger",
          "Neuländer Kamp / Eurofins",
          "Neumühlen / Övelgönne",
          "Notkestraße / DESY Gebäude 25b",
          "Notkestraße / DESY Hörsaal",
          "Oberbaumbrücke / Ericusspitze",
          "Oberhafenquartier Nord / Oberhafenbrücke",
          "Osakaallee / Überseequartier",
          "Osdorfer Landstraße / Elbe-Einkaufszentrum",
          "Osterstraße / Bismarckstraße",
          "Ottenser Marktplatz / Platz der Republik",
          "Paul-Ehrlich-Straße / Asklepios-Klinik Altona",
          "Paulinenplatz / Wohlwillstraße",
          "Peutestraße / Hatraco",
          "Planetarium / Hindenburgstraße",
          "Rathausmarkt / Mönckebergstraße",
          "Reeseberg / Anzengruberstraße",
          "Rothenburgsorter Marktplatz / Lindleystraße",
          "Röntgenstraße / Philips",
          "S Allermöhe / Walter-Rudolphi-Weg",
          "S Alte Wöhr / Rübenkamp",
          "S Bahrenfeld / Friedensallee",
          "S Elbgaustraße / Weidplan",
          "S Friedrichsberg / Krausestraße",
          "S Hammerbrook / Sachsenfeld",
          "S Harburg Rathaus / Deichhausweg",
          "S Hasselbrook / Papenstraße",
          "S Heimfeld / Alter Postweg",
          "S Holstenstraße / Düppelstraße",
          "S Iserbrook / Heidrehmen",
          "S Klein Flottbek / Ohnhorststraße",
          "S Kornweg / Tornberg",
          "S Königstraße / Struenseestraße",
          "S Landwehr / Ramazan-Avci-Platz",
          "S Langenfelde / Försterweg",
          "S Nettelnburg / Friedrich-Frank-Bogen",
          "S Neugraben / Am Neugrabener Bahnhof",
          "S Othmarschen / Beselerplatz",
          "S Reeperbahn / Königstraße",
          "S Rothenburgsort / Billhorner Deich",
          "S Stadthausbrücke / Neuer Wall",
          "S Stellingen / Randstraße",
          "S Tiefstack / Ausschläger Allee",
          "S Veddel / Wilhelmsburger Platz",
          "S Wellingsbüttel / Rolfinckstraße",
          "S Wilhelmsburg / Wilhelm-Strauß-Weg",
          "S+U Barmbek / Piazzetta-Ralph-Giordano",
          "S+U Barmbek / Wiesendamm",
          "S+U Berliner Tor / Beim Strohhause",
          "S+U Elbbrücken / Versmannstraße",
          "S+U Jungfernstieg / Ballindamm",
          "S+U Landungsbrücken / Johannisbollwerk",
          "S+U Ohlsdorf / Alsterdorfer Straße",
          "S+U Ohlsdorf / Im Grünen Grunde",
          "S+U Sternschanze / Dänenweg",
          "S+U Wandsbeker Chaussee / Börnestraße",
          "Sandweg / Sophienallee",
          "Schellerdamm / Hausnummer 22",
          "Schleidenstraße / Osterbekstraße",
          "Schopenstehl / Alter Fischmarkt",
          "Schulterblatt / Eifflerstraße",
          "Schöne Aussicht / Karlstraße",
          "Siemersplatz / Kollaustraße",
          "Sievekingplatz / Gorch-Fock-Wall",
          "Sievekingsallee / Sievekingdamm",
          "Soltaustraße / Arnoldistieg",
          "St. Petersburger Straße / Bei den Kirchhöfen",
          "Stadtdeich / Hammerbrooklyn",
          "Steindamm / Stralsunder Straße",
          "Stockmeyerstraße / Am Lohsepark",
          "Süderfeldstraße / Universitätsklinikum Eppendorf",
          "Süderstraße / Osterbrookplatz",
          "Südring / Stadthallenbrücke",
          "Tonndorfer Hauptstraße / Sonnenweg",
          "Troplowitzstraße / Beiersdorf  / NXP",
          "U Alsterdorf / Hindenburgstraße",
          "U Alter Teichweg / Nordschleswiger Straße",
          "U Baumwall / Elbphilharmonie",
          "U Burgstraße / Hammer Landstraße",
          "U Christuskirche / Fruchtallee",
          "U Dehnhaide / Barmbeker Markt",
          "U Emilienstraße / Fruchtallee",
          "U Eppendorfer Baum / Isestraße",
          "U Farmsen / Rahlstedter Weg",
          "U Feldstraße / Marktstraße",
          "U Gänsemarkt / Caffamacherreihe",
          "U Habichtstraße / Steilshooper Straße",
          "U HafenCity Universität / Versmannstraße",
          "U Hagenbecks Tierpark / Koppelstraße",
          "U Hagendeel / Hinter der Lieth",
          "U Hallerstraße / Rothenbaumchaussee",
          "U Hamburger Straße / Wagnerstraße",
          "U Hammer Kirche / Hammer Park",
          "U Hoheluftbrücke / Kaiser-Friedrich-Ufer",
          "U Horner Rennbahn / Meurerweg",
          "U Hudtwalckerstraße / Bebelallee",
          "U Joachim-Mähl-Straße / Paul-Sorge-Straße",
          "U Kellinghusenstraße / Loogeplatz",
          "U Klosterstern / Eppendorfer Baum",
          "U Langenhorn Markt / Tangstedter Landstraße",
          "U Langenhorn Nord / Foorthkamp",
          "U Lattenkamp / Bebelallee",
          "U Legienstraße / Riedweg",
          "U Lohmühlenstraße / Steindamm",
          "U Merkenstraße / Möllner Landstraße",
          "U Messehallen / Marktstraße",
          "U Meßberg / Willy-Brandt-Straße",
          "U Mundsburg / Schürbeker Straße",
          "U Mümmelmannsberg / Kandinskyallee",
          "U Niendorf Markt / Tibarg",
          "U Niendorf-Nord / Nordalbingerweg",
          "U Ochsenzoll / Langenhorner Chaussee",
          "U Oldenfelde / Busbrookhöhe",
          "U Osterstraße / Heußweg",
          "U Rathaus / Mönckebergstraße",
          "U Rauhes Haus / Horner Weg",
          "U Ritterstraße / Wandsbeker Chaussee",
          "U Rödingsmarkt / Großer Burstah",
          "U Saarlandstraße / Wiesendamm",
          "U Schippelsweg / Paul-Sorge-Straße",
          "U Schlump / Gustav-Falke-Straße",
          "U Sengelmannstraße / Djakartaweg",
          "U St. Pauli / Millerntorplatz",
          "U Steinstraße / Deichtorplatz",
          "U Straßburger Straße / Nordschleswiger Straße",
          "U Trabrennbahn / Traberweg",
          "U Uhlandstraße / Eilenau",
          "U Wandsbek Markt / Schlossgarten",
          "U Wandsbek Markt / Wandsbeker Marktstraße",
          "U Wandsbek-Gartenstadt / Ostpreußenplatz",
          "U Wartenau / Lübecker Straße",
          "U Überseequartier / Grasbrookpark",
          "Uferstraße / Wagnerstraße",
          "Universität / Moorweidenstraße",
          "Universität / Schlüterstraße",
          "Universität der Bundeswehr / Rodigallee",
          "Ursula-Falke-Terrassen / Mengestraße",
          "Van-der-Smissen-Straße / Große Elbstraße",
          "Veringstraße / Mannesallee",
          "Veritaskai / Theodor-Yorck-Straße",
          "Versmannstraße / Gerda-Gmelin Platz",
          "Vierlandenstraße / Johann-Adolf-Hasse-Platz",
          "Volksparkstadion / Sylvesterallee",
          "Von-Essen-Straße / Dehnhaide",
          "Weg beim Jäger / Lufthansa 2",
          "Weidestraße / Biedermannplatz",
          "Weidestraße / Johannes-Prassek-Park",
          "Wentorfer Straße / Bezirksamt Bergedorf",
          "Werner-Otto-Straße / OTTO Group",
          "Winterhuder Weg / Zimmerstraße",
          "Winterlindenweg / Loki-Schmidt-Platz",
          "Zentralbibliothek / Münzstraße",
          "Überseering / Mexikoring",
          "Überseering / New-York-Ring"
         ],
         "type": "scattermapbox"
        }
       ],
       "layout": {
        "autosize": true,
        "mapbox": {
         "accesstoken": "pk.eyJ1Ijoic2ViYXN0aWFucnVlaG1hbm4iLCJhIjoiY2xndXZucG40MTl3bTNzcXY0NWV0MmM5cCJ9.KjxLhiayvCpxzl_aCvOzpQ",
         "center": {
          "lat": 53.551086,
          "lon": 9.993682
         },
         "style": "streets",
         "zoom": 11
        },
        "margin": {
         "b": 0,
         "l": 0,
         "r": 0,
         "t": 0
        },
        "template": {
         "data": {
          "bar": [
           {
            "error_x": {
             "color": "#2a3f5f"
            },
            "error_y": {
             "color": "#2a3f5f"
            },
            "marker": {
             "line": {
              "color": "#E5ECF6",
              "width": 0.5
             },
             "pattern": {
              "fillmode": "overlay",
              "size": 10,
              "solidity": 0.2
             }
            },
            "type": "bar"
           }
          ],
          "barpolar": [
           {
            "marker": {
             "line": {
              "color": "#E5ECF6",
              "width": 0.5
             },
             "pattern": {
              "fillmode": "overlay",
              "size": 10,
              "solidity": 0.2
             }
            },
            "type": "barpolar"
           }
          ],
          "carpet": [
           {
            "aaxis": {
             "endlinecolor": "#2a3f5f",
             "gridcolor": "white",
             "linecolor": "white",
             "minorgridcolor": "white",
             "startlinecolor": "#2a3f5f"
            },
            "baxis": {
             "endlinecolor": "#2a3f5f",
             "gridcolor": "white",
             "linecolor": "white",
             "minorgridcolor": "white",
             "startlinecolor": "#2a3f5f"
            },
            "type": "carpet"
           }
          ],
          "choropleth": [
           {
            "colorbar": {
             "outlinewidth": 0,
             "ticks": ""
            },
            "type": "choropleth"
           }
          ],
          "contour": [
           {
            "colorbar": {
             "outlinewidth": 0,
             "ticks": ""
            },
            "colorscale": [
             [
              0,
              "#0d0887"
             ],
             [
              0.1111111111111111,
              "#46039f"
             ],
             [
              0.2222222222222222,
              "#7201a8"
             ],
             [
              0.3333333333333333,
              "#9c179e"
             ],
             [
              0.4444444444444444,
              "#bd3786"
             ],
             [
              0.5555555555555556,
              "#d8576b"
             ],
             [
              0.6666666666666666,
              "#ed7953"
             ],
             [
              0.7777777777777778,
              "#fb9f3a"
             ],
             [
              0.8888888888888888,
              "#fdca26"
             ],
             [
              1,
              "#f0f921"
             ]
            ],
            "type": "contour"
           }
          ],
          "contourcarpet": [
           {
            "colorbar": {
             "outlinewidth": 0,
             "ticks": ""
            },
            "type": "contourcarpet"
           }
          ],
          "heatmap": [
           {
            "colorbar": {
             "outlinewidth": 0,
             "ticks": ""
            },
            "colorscale": [
             [
              0,
              "#0d0887"
             ],
             [
              0.1111111111111111,
              "#46039f"
             ],
             [
              0.2222222222222222,
              "#7201a8"
             ],
             [
              0.3333333333333333,
              "#9c179e"
             ],
             [
              0.4444444444444444,
              "#bd3786"
             ],
             [
              0.5555555555555556,
              "#d8576b"
             ],
             [
              0.6666666666666666,
              "#ed7953"
             ],
             [
              0.7777777777777778,
              "#fb9f3a"
             ],
             [
              0.8888888888888888,
              "#fdca26"
             ],
             [
              1,
              "#f0f921"
             ]
            ],
            "type": "heatmap"
           }
          ],
          "heatmapgl": [
           {
            "colorbar": {
             "outlinewidth": 0,
             "ticks": ""
            },
            "colorscale": [
             [
              0,
              "#0d0887"
             ],
             [
              0.1111111111111111,
              "#46039f"
             ],
             [
              0.2222222222222222,
              "#7201a8"
             ],
             [
              0.3333333333333333,
              "#9c179e"
             ],
             [
              0.4444444444444444,
              "#bd3786"
             ],
             [
              0.5555555555555556,
              "#d8576b"
             ],
             [
              0.6666666666666666,
              "#ed7953"
             ],
             [
              0.7777777777777778,
              "#fb9f3a"
             ],
             [
              0.8888888888888888,
              "#fdca26"
             ],
             [
              1,
              "#f0f921"
             ]
            ],
            "type": "heatmapgl"
           }
          ],
          "histogram": [
           {
            "marker": {
             "pattern": {
              "fillmode": "overlay",
              "size": 10,
              "solidity": 0.2
             }
            },
            "type": "histogram"
           }
          ],
          "histogram2d": [
           {
            "colorbar": {
             "outlinewidth": 0,
             "ticks": ""
            },
            "colorscale": [
             [
              0,
              "#0d0887"
             ],
             [
              0.1111111111111111,
              "#46039f"
             ],
             [
              0.2222222222222222,
              "#7201a8"
             ],
             [
              0.3333333333333333,
              "#9c179e"
             ],
             [
              0.4444444444444444,
              "#bd3786"
             ],
             [
              0.5555555555555556,
              "#d8576b"
             ],
             [
              0.6666666666666666,
              "#ed7953"
             ],
             [
              0.7777777777777778,
              "#fb9f3a"
             ],
             [
              0.8888888888888888,
              "#fdca26"
             ],
             [
              1,
              "#f0f921"
             ]
            ],
            "type": "histogram2d"
           }
          ],
          "histogram2dcontour": [
           {
            "colorbar": {
             "outlinewidth": 0,
             "ticks": ""
            },
            "colorscale": [
             [
              0,
              "#0d0887"
             ],
             [
              0.1111111111111111,
              "#46039f"
             ],
             [
              0.2222222222222222,
              "#7201a8"
             ],
             [
              0.3333333333333333,
              "#9c179e"
             ],
             [
              0.4444444444444444,
              "#bd3786"
             ],
             [
              0.5555555555555556,
              "#d8576b"
             ],
             [
              0.6666666666666666,
              "#ed7953"
             ],
             [
              0.7777777777777778,
              "#fb9f3a"
             ],
             [
              0.8888888888888888,
              "#fdca26"
             ],
             [
              1,
              "#f0f921"
             ]
            ],
            "type": "histogram2dcontour"
           }
          ],
          "mesh3d": [
           {
            "colorbar": {
             "outlinewidth": 0,
             "ticks": ""
            },
            "type": "mesh3d"
           }
          ],
          "parcoords": [
           {
            "line": {
             "colorbar": {
              "outlinewidth": 0,
              "ticks": ""
             }
            },
            "type": "parcoords"
           }
          ],
          "pie": [
           {
            "automargin": true,
            "type": "pie"
           }
          ],
          "scatter": [
           {
            "fillpattern": {
             "fillmode": "overlay",
             "size": 10,
             "solidity": 0.2
            },
            "type": "scatter"
           }
          ],
          "scatter3d": [
           {
            "line": {
             "colorbar": {
              "outlinewidth": 0,
              "ticks": ""
             }
            },
            "marker": {
             "colorbar": {
              "outlinewidth": 0,
              "ticks": ""
             }
            },
            "type": "scatter3d"
           }
          ],
          "scattercarpet": [
           {
            "marker": {
             "colorbar": {
              "outlinewidth": 0,
              "ticks": ""
             }
            },
            "type": "scattercarpet"
           }
          ],
          "scattergeo": [
           {
            "marker": {
             "colorbar": {
              "outlinewidth": 0,
              "ticks": ""
             }
            },
            "type": "scattergeo"
           }
          ],
          "scattergl": [
           {
            "marker": {
             "colorbar": {
              "outlinewidth": 0,
              "ticks": ""
             }
            },
            "type": "scattergl"
           }
          ],
          "scattermapbox": [
           {
            "marker": {
             "colorbar": {
              "outlinewidth": 0,
              "ticks": ""
             }
            },
            "type": "scattermapbox"
           }
          ],
          "scatterpolar": [
           {
            "marker": {
             "colorbar": {
              "outlinewidth": 0,
              "ticks": ""
             }
            },
            "type": "scatterpolar"
           }
          ],
          "scatterpolargl": [
           {
            "marker": {
             "colorbar": {
              "outlinewidth": 0,
              "ticks": ""
             }
            },
            "type": "scatterpolargl"
           }
          ],
          "scatterternary": [
           {
            "marker": {
             "colorbar": {
              "outlinewidth": 0,
              "ticks": ""
             }
            },
            "type": "scatterternary"
           }
          ],
          "surface": [
           {
            "colorbar": {
             "outlinewidth": 0,
             "ticks": ""
            },
            "colorscale": [
             [
              0,
              "#0d0887"
             ],
             [
              0.1111111111111111,
              "#46039f"
             ],
             [
              0.2222222222222222,
              "#7201a8"
             ],
             [
              0.3333333333333333,
              "#9c179e"
             ],
             [
              0.4444444444444444,
              "#bd3786"
             ],
             [
              0.5555555555555556,
              "#d8576b"
             ],
             [
              0.6666666666666666,
              "#ed7953"
             ],
             [
              0.7777777777777778,
              "#fb9f3a"
             ],
             [
              0.8888888888888888,
              "#fdca26"
             ],
             [
              1,
              "#f0f921"
             ]
            ],
            "type": "surface"
           }
          ],
          "table": [
           {
            "cells": {
             "fill": {
              "color": "#EBF0F8"
             },
             "line": {
              "color": "white"
             }
            },
            "header": {
             "fill": {
              "color": "#C8D4E3"
             },
             "line": {
              "color": "white"
             }
            },
            "type": "table"
           }
          ]
         },
         "layout": {
          "annotationdefaults": {
           "arrowcolor": "#2a3f5f",
           "arrowhead": 0,
           "arrowwidth": 1
          },
          "autotypenumbers": "strict",
          "coloraxis": {
           "colorbar": {
            "outlinewidth": 0,
            "ticks": ""
           }
          },
          "colorscale": {
           "diverging": [
            [
             0,
             "#8e0152"
            ],
            [
             0.1,
             "#c51b7d"
            ],
            [
             0.2,
             "#de77ae"
            ],
            [
             0.3,
             "#f1b6da"
            ],
            [
             0.4,
             "#fde0ef"
            ],
            [
             0.5,
             "#f7f7f7"
            ],
            [
             0.6,
             "#e6f5d0"
            ],
            [
             0.7,
             "#b8e186"
            ],
            [
             0.8,
             "#7fbc41"
            ],
            [
             0.9,
             "#4d9221"
            ],
            [
             1,
             "#276419"
            ]
           ],
           "sequential": [
            [
             0,
             "#0d0887"
            ],
            [
             0.1111111111111111,
             "#46039f"
            ],
            [
             0.2222222222222222,
             "#7201a8"
            ],
            [
             0.3333333333333333,
             "#9c179e"
            ],
            [
             0.4444444444444444,
             "#bd3786"
            ],
            [
             0.5555555555555556,
             "#d8576b"
            ],
            [
             0.6666666666666666,
             "#ed7953"
            ],
            [
             0.7777777777777778,
             "#fb9f3a"
            ],
            [
             0.8888888888888888,
             "#fdca26"
            ],
            [
             1,
             "#f0f921"
            ]
           ],
           "sequentialminus": [
            [
             0,
             "#0d0887"
            ],
            [
             0.1111111111111111,
             "#46039f"
            ],
            [
             0.2222222222222222,
             "#7201a8"
            ],
            [
             0.3333333333333333,
             "#9c179e"
            ],
            [
             0.4444444444444444,
             "#bd3786"
            ],
            [
             0.5555555555555556,
             "#d8576b"
            ],
            [
             0.6666666666666666,
             "#ed7953"
            ],
            [
             0.7777777777777778,
             "#fb9f3a"
            ],
            [
             0.8888888888888888,
             "#fdca26"
            ],
            [
             1,
             "#f0f921"
            ]
           ]
          },
          "colorway": [
           "#636efa",
           "#EF553B",
           "#00cc96",
           "#ab63fa",
           "#FFA15A",
           "#19d3f3",
           "#FF6692",
           "#B6E880",
           "#FF97FF",
           "#FECB52"
          ],
          "font": {
           "color": "#2a3f5f"
          },
          "geo": {
           "bgcolor": "white",
           "lakecolor": "white",
           "landcolor": "#E5ECF6",
           "showlakes": true,
           "showland": true,
           "subunitcolor": "white"
          },
          "hoverlabel": {
           "align": "left"
          },
          "hovermode": "closest",
          "mapbox": {
           "style": "light"
          },
          "paper_bgcolor": "white",
          "plot_bgcolor": "#E5ECF6",
          "polar": {
           "angularaxis": {
            "gridcolor": "white",
            "linecolor": "white",
            "ticks": ""
           },
           "bgcolor": "#E5ECF6",
           "radialaxis": {
            "gridcolor": "white",
            "linecolor": "white",
            "ticks": ""
           }
          },
          "scene": {
           "xaxis": {
            "backgroundcolor": "#E5ECF6",
            "gridcolor": "white",
            "gridwidth": 2,
            "linecolor": "white",
            "showbackground": true,
            "ticks": "",
            "zerolinecolor": "white"
           },
           "yaxis": {
            "backgroundcolor": "#E5ECF6",
            "gridcolor": "white",
            "gridwidth": 2,
            "linecolor": "white",
            "showbackground": true,
            "ticks": "",
            "zerolinecolor": "white"
           },
           "zaxis": {
            "backgroundcolor": "#E5ECF6",
            "gridcolor": "white",
            "gridwidth": 2,
            "linecolor": "white",
            "showbackground": true,
            "ticks": "",
            "zerolinecolor": "white"
           }
          },
          "shapedefaults": {
           "line": {
            "color": "#2a3f5f"
           }
          },
          "ternary": {
           "aaxis": {
            "gridcolor": "white",
            "linecolor": "white",
            "ticks": ""
           },
           "baxis": {
            "gridcolor": "white",
            "linecolor": "white",
            "ticks": ""
           },
           "bgcolor": "#E5ECF6",
           "caxis": {
            "gridcolor": "white",
            "linecolor": "white",
            "ticks": ""
           }
          },
          "title": {
           "x": 0.05
          },
          "xaxis": {
           "automargin": true,
           "gridcolor": "white",
           "linecolor": "white",
           "ticks": "",
           "title": {
            "standoff": 15
           },
           "zerolinecolor": "white",
           "zerolinewidth": 2
          },
          "yaxis": {
           "automargin": true,
           "gridcolor": "white",
           "linecolor": "white",
           "ticks": "",
           "title": {
            "standoff": 15
           },
           "zerolinecolor": "white",
           "zerolinewidth": 2
          }
         }
        }
       }
      }
     },
     "metadata": {},
     "output_type": "display_data"
    }
   ],
   "source": [
    "import plotly.graph_objs as go\n",
    "\n",
    "stadtrad_trips_unidirectional_copy = stadtrad_trips_unidirectional.copy()\n",
    "stadtrad_trips_unidirectional_copy['count'] = stadtrad_trips_unidirectional_copy['demand'] + stadtrad_trips_unidirectional_copy['supply']\n",
    "max_stations = stadtrad_trips_unidirectional_copy.groupby(['name', 'latitude', 'longitude']).agg({ 'diff': 'sum', 'count': 'sum' }).reset_index()\n",
    "max_stations['size'] = max_stations['count'].abs() * 0.001\n",
    "\n",
    "data = []\n",
    "dots = {}\n",
    "dots[\"lat\"] = []\n",
    "dots[\"lon\"] = []\n",
    "dots[\"name\"] = []\n",
    "dots[\"size\"] = []\n",
    "dots[\"diff\"] = []\n",
    "for index, row in max_stations.iterrows():\n",
    "    dots[\"lat\"].append(row[\"latitude\"])\n",
    "    dots[\"lon\"].append(row[\"longitude\"])\n",
    "    dots[\"name\"].append(row[\"name\"])\n",
    "    dots[\"size\"].append(row[\"size\"])\n",
    "    dots[\"diff\"].append(row[\"diff\"])\n",
    "\n",
    "data.append(go.Scattermapbox(\n",
    "    name=\"StadtRad-Stationen\",\n",
    "    lat=dots[\"lat\"],\n",
    "    lon=dots[\"lon\"],\n",
    "    mode='markers',\n",
    "    marker=go.scattermapbox.Marker(\n",
    "        cmid=0,\n",
    "        colorscale='balance_r',\n",
    "        allowoverlap=True,\n",
    "        size=dots[\"size\"],\n",
    "        color=dots['diff'],\n",
    "        showscale=True,\n",
    "    ),\n",
    "    hoverinfo=\"text\",\n",
    "    showlegend=False,\n",
    "    text=dots[\"name\"],\n",
    "))\n",
    "\n",
    "\n",
    "# Define the layout of the map\n",
    "layout = go.Layout(\n",
    "    margin=go.layout.Margin(\n",
    "        l=0, #left margin\n",
    "        r=0, #right margin\n",
    "        b=0, #bottom margin\n",
    "        t=0  #top margin\n",
    "    ),\n",
    "    autosize=True,\n",
    "    mapbox = go.layout.Mapbox(\n",
    "    accesstoken = 'pk.eyJ1Ijoic2ViYXN0aWFucnVlaG1hbm4iLCJhIjoiY2xndXZucG40MTl3bTNzcXY0NWV0MmM5cCJ9.KjxLhiayvCpxzl_aCvOzpQ',\n",
    "        center = go.layout.mapbox.Center(\n",
    "            lon = 9.993682,\n",
    "            lat = 53.551086\n",
    "        ),\n",
    "        style='streets',\n",
    "        zoom = 11\n",
    "    ),\n",
    ")\n",
    "\n",
    "# Create the figure and add the traces\n",
    "fig = go.Figure(data=data, layout=layout)\n",
    "\n",
    "fig.show()"
   ]
  }
 ],
 "metadata": {
  "kernelspec": {
   "display_name": "Python 3",
   "language": "python",
   "name": "python3"
  },
  "language_info": {
   "codemirror_mode": {
    "name": "ipython",
    "version": 3
   },
   "file_extension": ".py",
   "mimetype": "text/x-python",
   "name": "python",
   "nbconvert_exporter": "python",
   "pygments_lexer": "ipython3",
   "version": "3.10.6"
  }
 },
 "nbformat": 4,
 "nbformat_minor": 2
}
